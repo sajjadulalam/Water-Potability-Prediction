import numpy as np
import pandas as pd
from pandas import read_csv
from sklearn.model_selection import train_test_split
from sklearn.model_selection import KFold
from sklearn.linear_model import LogisticRegression
from sklearn.tree import DecisionTreeClassifier
from sklearn.neighbors import KNeighborsClassifier
from sklearn.discriminant_analysis import LinearDiscriminantAnalysis
from sklearn.naive_bayes import GaussianNB
from sklearn.ensemble import RandomForestClassifier
from sklearn.svm import SVC

filename ='C:/Users/Asus/Desktop/New Microsoft Excel.csv'
dataset= read_csv(filename)

dataset.isnull().sum()

newdataset = dataset.fillna(dataset.mean(), inplace=True)

dataset.isnull().sum()

array = dataset.values
X= array[:,0:1]
Y= array[:,1]
valid_size=0.2
seed= 9

X_train, X_validation, Y_train, Y_validation = train_test_split(X, Y,
test_size=valid_size, random_state=seed)

model=[]
#model.append(('LR', LogisticRegression()))
#model.append(('LDA', LinearDiscriminantAnalysis()))
#model.append(('KNN', KNeighborsClassifier()))
#model.append(('CART', DecisionTreeClassifier()))
#model.append(('NB', GaussianNB()))
model.append(('SVM', SVC()))
#model.append(('RF', RandomForestClassifier()))

SVM = SVC()
SVM.fit(X_train, Y_train)

i=1
list=[]

while i<=9:   
    ele=float(input())
    list.append(ele)
    i+=1
inputs=np.array(list).reshape(1,9)
out=RF.predict(inputs)
print(out)
